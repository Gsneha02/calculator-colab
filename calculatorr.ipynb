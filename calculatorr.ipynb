{
  "nbformat": 4,
  "nbformat_minor": 0,
  "metadata": {
    "colab": {
      "provenance": []
    },
    "kernelspec": {
      "name": "python3",
      "display_name": "Python 3"
    },
    "language_info": {
      "name": "python"
    }
  },
  "cells": [
    {
      "cell_type": "code",
      "execution_count": 1,
      "metadata": {
        "colab": {
          "base_uri": "https://localhost:8080/"
        },
        "id": "kKLf0LUGYQCT",
        "outputId": "f936c852-386b-44e2-cacc-8253c8edb8a6"
      },
      "outputs": [
        {
          "output_type": "stream",
          "name": "stdout",
          "text": [
            "Simple Calculator\n",
            "Select operation:\n",
            "1. Add\n",
            "2. Subtract\n",
            "3. Multiply\n",
            "4. Divide\n",
            "5. Exit\n",
            "Enter choice (1/2/3/4/5): 1\n",
            "Enter first number: 11\n",
            "Enter second number: 2\n",
            "11.0 + 2.0 = 13.0\n",
            "\n",
            "Simple Calculator\n",
            "Select operation:\n",
            "1. Add\n",
            "2. Subtract\n",
            "3. Multiply\n",
            "4. Divide\n",
            "5. Exit\n",
            "Enter choice (1/2/3/4/5): 5\n",
            "Exiting the calculator. Goodbye!\n"
          ]
        }
      ],
      "source": [
        "# Simple Calculator\n",
        "\n",
        "# Function for Addition\n",
        "def add(x, y):\n",
        "    return x + y\n",
        "\n",
        "# Function for Subtraction\n",
        "def subtract(x, y):\n",
        "    return x - y\n",
        "\n",
        "# Function for Multiplication\n",
        "def multiply(x, y):\n",
        "    return x * y\n",
        "\n",
        "# Function for Division\n",
        "def divide(x, y):\n",
        "    if y != 0:\n",
        "        return x / y\n",
        "    else:\n",
        "        return \"Error! Division by zero.\"\n",
        "\n",
        "# Main function to display the menu and handle the user's choice\n",
        "def calculator():\n",
        "    while True:\n",
        "        # Print the operation options\n",
        "        print(\"Simple Calculator\")\n",
        "        print(\"Select operation:\")\n",
        "        print(\"1. Add\")\n",
        "        print(\"2. Subtract\")\n",
        "        print(\"3. Multiply\")\n",
        "        print(\"4. Divide\")\n",
        "        print(\"5. Exit\")\n",
        "\n",
        "        # Get user input for operation choice\n",
        "        choice = input(\"Enter choice (1/2/3/4/5): \")\n",
        "\n",
        "        # If user selects to exit\n",
        "        if choice == '5':\n",
        "            print(\"Exiting the calculator. Goodbye!\")\n",
        "            break\n",
        "\n",
        "        # Check if the choice is valid\n",
        "        if choice in ['1', '2', '3', '4']:\n",
        "            try:\n",
        "                # Get user input for numbers\n",
        "                num1 = float(input(\"Enter first number: \"))\n",
        "                num2 = float(input(\"Enter second number: \"))\n",
        "\n",
        "                # Perform the operation\n",
        "                if choice == '1':\n",
        "                    print(f\"{num1} + {num2} = {add(num1, num2)}\\n\")\n",
        "                elif choice == '2':\n",
        "                    print(f\"{num1} - {num2} = {subtract(num1, num2)}\\n\")\n",
        "                elif choice == '3':\n",
        "                    print(f\"{num1} * {num2} = {multiply(num1, num2)}\\n\")\n",
        "                elif choice == '4':\n",
        "                    print(f\"{num1} / {num2} = {divide(num1, num2)}\\n\")\n",
        "            except ValueError:\n",
        "                print(\"Invalid input! Please enter valid numbers.\\n\")\n",
        "        else:\n",
        "            print(\"Invalid input! Please choose a valid operation.\\n\")\n",
        "\n",
        "# Call the calculator function to start the program\n",
        "if __name__ == \"__main__\":\n",
        "    calculator()"
      ]
    }
  ]
}